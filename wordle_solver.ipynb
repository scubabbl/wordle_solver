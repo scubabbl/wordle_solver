{
 "cells": [
  {
   "cell_type": "code",
   "execution_count": 1,
   "metadata": {},
   "outputs": [],
   "source": [
    "import pandas as pd\n",
    "import plotly.express as px\n",
    "import json\n",
    "import re\n",
    "\n",
    "\n",
    "#################################################################\n",
    "# Stupid scoring\n",
    "#################################################################\n",
    "def score_function(row, sum_data):\n",
    "    return int(row.name) + 1\n",
    "    \n",
    "##################################################################\n",
    "#Process the word list for basic data\n",
    "##################################################################\n",
    "def anyalyze_word_list(word_list):\n",
    "    data = {}\n",
    "    for word in word_list:\n",
    "        letters = list(word)\n",
    "        for l in letters:\n",
    "            ld = data.get(l, {'letter': l, 'count': 0})\n",
    "            ld['count'] += 1\n",
    "            data[l] = ld\n",
    "\n",
    "    df = pd.DataFrame.from_dict(data, orient='index').sort_values('count').reset_index()\n",
    "    \n",
    "    sum_data = df['count'].sum()\n",
    "    df['weight']=df['count']/sum_data\n",
    "    \n",
    "    df['score']=df.apply(score_function, axis=1, sum_data=sum_data)\n",
    "    df=df.set_index('index')\n",
    "    #print(df)\n",
    "    \n",
    "    #fig = px.bar(df, x='letter', y='count')\n",
    "    #fig.show()\n",
    "    \n",
    "    word_score_data = {}\n",
    "    for word in word_list:\n",
    "        word_score = 0\n",
    "        letters = list(word)\n",
    "        for l in letters:\n",
    "            df_data = df.loc[l]\n",
    "            word_score += df_data.weight\n",
    "        word_score_data[word] = {'word': word, 'score': word_score}\n",
    "    word_df = pd.DataFrame.from_dict(word_score_data, orient='index').sort_values('score', ascending=False).reset_index()\n",
    "    return word_df\n",
    "    "
   ]
  },
  {
   "cell_type": "code",
   "execution_count": 2,
   "metadata": {},
   "outputs": [],
   "source": [
    "###################################################\n",
    "#Process the word list to based on all given\n",
    "#conditions\n",
    "###################################################\n",
    "def validate_word(word):\n",
    "    word_array = [char for char in word]\n",
    "    word_set = set(word_array)\n",
    "    if len(word_set) != 5:\n",
    "        return False\n",
    "    return True\n",
    "\n",
    "def all_contains(contains, word):\n",
    "    result = all([e in word for e in contains])\n",
    "    return result\n",
    "\n",
    "def any_contains(contains, word):\n",
    "    result =  any([e in word for e in contains])\n",
    "    return result\n",
    "\n",
    "def regex_match(rex, word):\n",
    "    return True if re.match(rex, word) is not None else False\n",
    "\n",
    "def check_exclude_position(exclude, word):\n",
    "    letters = list(word)\n",
    "    for i in range(0, len(letters)):\n",
    "        l = letters[i]\n",
    "        x = exclude[i]\n",
    "        if l in x:\n",
    "            return False\n",
    "    return True\n",
    "\n",
    "def process(word_list, exclude, contains, rex, exclude_position):\n",
    "    match = [word for word in word_list if not any_contains(exclude, word)]\n",
    "    match = [word for word in match if all_contains(contains, word)]\n",
    "    match = [word for word in match if regex_match(rex, word)]\n",
    "    match = [word for word in match if check_exclude_position(exclude_position, word)]\n",
    "    return match\n",
    "    \n",
    "        "
   ]
  },
  {
   "cell_type": "code",
   "execution_count": 3,
   "metadata": {},
   "outputs": [],
   "source": [
    "####################################################\n",
    "# Prepare our data\n",
    "####################################################\n",
    "results = []\n",
    "with open('5_letter_words.json', 'r') as in_file:\n",
    "    results = json.load(in_file)\n",
    "\n",
    "word_df = anyalyze_word_list(results)"
   ]
  },
  {
   "cell_type": "code",
   "execution_count": 6,
   "metadata": {},
   "outputs": [
    {
     "name": "stdout",
     "output_type": "stream",
     "text": [
      "Guess 1\n",
      "      index   word     score\n",
      "5745  ROBIN  ROBIN  0.275710\n",
      "6140  RUNIC  RUNIC  0.271857\n",
      "6145  RUNDI  RUNDI  0.271798\n",
      "6559  ROMIC  ROMIC  0.266981\n",
      "7234  RUBIN  RUBIN  0.259314\n",
      "9039  RUVID  RUVID  0.230886\n"
     ]
    }
   ],
   "source": [
    "print(\"Guess 1\")\n",
    "exclude=list(\"ASETGH\".upper())\n",
    "contains=list(\"I\") #Contains list. Should be seperate from the rex below\n",
    "rex = \"R....\" #Used to match positions\n",
    "exclude_position=['', 'GHTAISE', 'GHTAISE', 'GHTASE', 'GHTASE'] #Exclude positions\n",
    "\n",
    "first_results = list(set(process(results, exclude, contains, rex, exclude_position)))\n",
    "first_results.sort()\n",
    "\n",
    "#Get results from DF, sorted by distrobution\n",
    "df_results = word_df.loc[word_df['word'].isin(first_results)]\n",
    "print(df_results.head(50))\n"
   ]
  },
  {
   "cell_type": "code",
   "execution_count": null,
   "metadata": {},
   "outputs": [],
   "source": []
  },
  {
   "cell_type": "code",
   "execution_count": null,
   "metadata": {},
   "outputs": [],
   "source": []
  }
 ],
 "metadata": {
  "kernelspec": {
   "display_name": "Python 3",
   "language": "python",
   "name": "python3"
  },
  "language_info": {
   "codemirror_mode": {
    "name": "ipython",
    "version": 3
   },
   "file_extension": ".py",
   "mimetype": "text/x-python",
   "name": "python",
   "nbconvert_exporter": "python",
   "pygments_lexer": "ipython3",
   "version": "3.7.6"
  }
 },
 "nbformat": 4,
 "nbformat_minor": 4
}
